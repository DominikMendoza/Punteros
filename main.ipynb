{
 "cells": [
  {
   "cell_type": "code",
   "execution_count": 177,
   "metadata": {},
   "outputs": [
    {
     "name": "stdout",
     "output_type": "stream",
     "text": [
      "Writing 1.cpp\n"
     ]
    }
   ],
   "source": [
    "%%writefile 1.cpp\n",
    "// Dirección de memoria y punteros\n",
    "#include <iostream>\n",
    "using namespace std;\n",
    "\n",
    "int main() {\n",
    "    int var = 102;\n",
    "    int* ptr;\n",
    "    cout << var << endl;\n",
    "    cout << &var << endl;\n",
    "    cout << ptr << endl;\n",
    "    return 0;\n",
    "}"
   ]
  },
  {
   "cell_type": "code",
   "execution_count": 178,
   "metadata": {},
   "outputs": [
    {
     "name": "stdout",
     "output_type": "stream",
     "text": [
      "102\n",
      "0x61ff08\n",
      "0x401a9b\n"
     ]
    }
   ],
   "source": [
    "!g++ 1.cpp && a.exe"
   ]
  },
  {
   "cell_type": "code",
   "execution_count": 179,
   "metadata": {},
   "outputs": [
    {
     "name": "stdout",
     "output_type": "stream",
     "text": [
      "Writing 2.cpp\n"
     ]
    }
   ],
   "source": [
    "%%writefile 2.cpp\n",
    "// Acceso con punteros\n",
    "#include <iostream>\n",
    "using namespace std;\n",
    "\n",
    "int main() {\n",
    "    int var1, var2;\n",
    "    int* ptr;\n",
    "\n",
    "    ptr = &var1;\n",
    "\n",
    "    *ptr = 37;\n",
    "\n",
    "    var2 = *ptr;\n",
    "    \n",
    "    cout << \"Variable 1: \" << var1 << \" -> \" << &var1 << endl;\n",
    "    cout << \"Puntero -> \" << ptr << endl;\n",
    "    cout << \"Variable 2: \" << var2 << \" -> \" << &var2 << endl;\n",
    "    return 0;\n",
    "}"
   ]
  },
  {
   "cell_type": "code",
   "execution_count": 180,
   "metadata": {},
   "outputs": [
    {
     "name": "stdout",
     "output_type": "stream",
     "text": [
      "Variable 1: 37 -> 0x61ff08\n",
      "Puntero -> 0x61ff08\n",
      "Variable 2: 37 -> 0x61ff04\n"
     ]
    }
   ],
   "source": [
    "!g++ 2.cpp && a.exe"
   ]
  },
  {
   "cell_type": "code",
   "execution_count": 181,
   "metadata": {},
   "outputs": [
    {
     "name": "stdout",
     "output_type": "stream",
     "text": [
      "Writing 3.cpp\n"
     ]
    }
   ],
   "source": [
    "%%writefile 3.cpp\n",
    "// Punteros y tipos de datos\n",
    "#include <iostream>\n",
    "using namespace std;\n",
    "\n",
    "int main() {\n",
    "    int variableInt = 4;\n",
    "    float variableFloat = 0.92;\n",
    "\n",
    "    int* ptrInt;\n",
    "    float* ptrFloat;\n",
    "\n",
    "    ptrInt = &variableInt;\n",
    "    ptrFloat = &variableFloat;\n",
    "\n",
    "    cout << \"Variable entera: \" << *ptrInt << endl;\n",
    "    cout << \"Variabel flotante: \" << *ptrFloat << endl;\n",
    "    return 0;\n",
    "}"
   ]
  },
  {
   "cell_type": "code",
   "execution_count": 182,
   "metadata": {},
   "outputs": [
    {
     "name": "stdout",
     "output_type": "stream",
     "text": [
      "Variable entera: 4\n",
      "Variabel flotante: 0.92\n"
     ]
    }
   ],
   "source": [
    "!g++ 3.cpp && a.exe"
   ]
  },
  {
   "cell_type": "code",
   "execution_count": 183,
   "metadata": {},
   "outputs": [
    {
     "name": "stdout",
     "output_type": "stream",
     "text": [
      "Writing 4.cpp\n"
     ]
    }
   ],
   "source": [
    "%%writefile 4.cpp\n",
    "// Arreglos definidos y notaciones de punteros\n",
    "#include <iostream>\n",
    "using namespace std;\n",
    "\n",
    "int main() {\n",
    "    char str1[] = \"Una cadena definida\";\n",
    "    char* str2 = (char*)\"Cadena definida con notación de puntero\";\n",
    "\n",
    "    //str2 += 7;\n",
    "    \n",
    "    cout << str1 << endl;\n",
    "    cout << str2 << endl;\n",
    "    return 0;\n",
    "}"
   ]
  },
  {
   "cell_type": "code",
   "execution_count": 184,
   "metadata": {},
   "outputs": [
    {
     "name": "stdout",
     "output_type": "stream",
     "text": [
      "Una cadena definida\n",
      "Cadena definida con notación de puntero\n"
     ]
    }
   ],
   "source": [
    "!g++ 4.cpp && a.exe"
   ]
  },
  {
   "cell_type": "code",
   "execution_count": 185,
   "metadata": {},
   "outputs": [
    {
     "name": "stdout",
     "output_type": "stream",
     "text": [
      "Writing 5.cpp\n"
     ]
    }
   ],
   "source": [
    "%%writefile 5.cpp\n",
    "// Recorrido de una cadena con punteros\n",
    "#include <iostream>\n",
    "using namespace std;\n",
    "\n",
    "void imprime(char* cadena) {\n",
    "    while (*cadena) {\n",
    "        cout << *cadena++<< ' ';\n",
    "    }\n",
    "    cout << endl;\n",
    "}\n",
    "int main() {\n",
    "    char str[] = \"Una cadena simple\";\n",
    "    imprime(str);\n",
    "    return 0;\n",
    "}"
   ]
  },
  {
   "cell_type": "code",
   "execution_count": 186,
   "metadata": {},
   "outputs": [
    {
     "name": "stdout",
     "output_type": "stream",
     "text": [
      "U n a   c a d e n a   s i m p l e \n"
     ]
    }
   ],
   "source": [
    "!g++ 5.cpp && a.exe"
   ]
  },
  {
   "cell_type": "code",
   "execution_count": 187,
   "metadata": {},
   "outputs": [
    {
     "name": "stdout",
     "output_type": "stream",
     "text": [
      "Writing 6.cpp\n"
     ]
    }
   ],
   "source": [
    "%%writefile 6.cpp   \n",
    "// Parametros por referencia\n",
    "#include <iostream>\n",
    "using namespace std;\n",
    "\n",
    "void convertir(float& valor) {\n",
    "    valor = valor * 1.8 + 32;\n",
    "    cout << \"Valor de memoria de valor: \" << &valor << endl;\n",
    "}\n",
    "\n",
    "int main() {\n",
    "    float grados;\n",
    "    cout << \"Ingrese los grados Fahrenheit: \" << endl;\n",
    "    //cin >> grados;\n",
    "    grados = 12.0;\n",
    "    cout << \"Valor de memoria de grados: \" << &grados << endl;\n",
    "\n",
    "    convertir(grados);\n",
    "    cout << grados;\n",
    "    return 0;\n",
    "}"
   ]
  },
  {
   "cell_type": "code",
   "execution_count": 188,
   "metadata": {},
   "outputs": [
    {
     "name": "stdout",
     "output_type": "stream",
     "text": [
      "Ingrese los grados Fahrenheit: \n",
      "Valor de memoria de grados: 0x61ff0c\n",
      "Valor de memoria de valor: 0x61ff0c\n",
      "53.6\n"
     ]
    }
   ],
   "source": [
    "!g++ 6.cpp && a.exe"
   ]
  }
 ],
 "metadata": {
  "kernelspec": {
   "display_name": "Python 3.10.6 64-bit",
   "language": "python",
   "name": "python3"
  },
  "language_info": {
   "codemirror_mode": {
    "name": "ipython",
    "version": 3
   },
   "file_extension": ".py",
   "mimetype": "text/x-python",
   "name": "python",
   "nbconvert_exporter": "python",
   "pygments_lexer": "ipython3",
   "version": "3.10.6"
  },
  "orig_nbformat": 4,
  "vscode": {
   "interpreter": {
    "hash": "a0640559756d26b7d7d4e24718f12fe867862a4dd781109e44185d497419106b"
   }
  }
 },
 "nbformat": 4,
 "nbformat_minor": 2
}
